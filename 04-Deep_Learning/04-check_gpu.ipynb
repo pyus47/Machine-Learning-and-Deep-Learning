{
 "cells": [
  {
   "cell_type": "markdown",
   "metadata": {},
   "source": [
    "# check if gpu is avialable "
   ]
  },
  {
   "cell_type": "code",
   "execution_count": 1,
   "metadata": {},
   "outputs": [
    {
     "name": "stdout",
     "output_type": "stream",
     "text": [
      "WARNING:tensorflow:From c:\\Users\\Basit\\miniconda3\\envs\\python_ml\\Lib\\site-packages\\keras\\src\\losses.py:2976: The name tf.losses.sparse_softmax_cross_entropy is deprecated. Please use tf.compat.v1.losses.sparse_softmax_cross_entropy instead.\n",
      "\n",
      "python platform: Windows-10-10.0.19045-SP0\n",
      "Python version :3.11.5 | packaged by Anaconda, Inc. | (main, Sep 11 2023, 13:26:23) [MSC v.1916 64 bit (AMD64)]\n",
      "Tensorflow version:2.15.0\n",
      "Scikit-Learn version:1.3.2\n",
      "Please install TensorFlow.\n",
      "No module named 'tensorflow'\n",
      "\n",
      "No GPU found.\n",
      "\n",
      "Please install TensorFlow.\n",
      "No module named 'tensorflow'\n"
     ]
    },
    {
     "data": {
      "text/plain": [
       "False"
      ]
     },
     "execution_count": 1,
     "metadata": {},
     "output_type": "execute_result"
    }
   ],
   "source": [
    "import sys \n",
    "import pandas as pd \n",
    "import tensorflow as tf \n",
    "import platform\n",
    "import sklearn as sk \n",
    "import scipy as sp \n",
    "# printing different versions of them \n",
    "print(f'python platform: {platform.platform()}')\n",
    "sys_info = f\"Python version :{sys.version}\"\\\n",
    "           f\"\\nTensorflow version:{tf.__version__}\" \\\n",
    "           \"\\nScikit-Learn version:{}\".format(sk.__version__) \\\n",
    "        \n",
    "             \n",
    "print(sys_info)\n",
    "# CHECKING IF GPU IS PRESENT OR NOT \n",
    "def check_gpu():\n",
    "    \"\"\"\n",
    "        This function is used to check if there exists a GPU on the system or not.\n",
    "        Returns True if gpu present, else False\"\"\"\n",
    "    try:\n",
    "        # Checking if TensorFlow is available  \n",
    "        if 'tensorflow' in sys_info:\n",
    "            physical_devices = tf.config.list_physical_devices('GPU')\n",
    "            return len(physical_devices) > 0\n",
    "        else:\n",
    "            raise Exception(\"No module named 'tensorflow'\")\n",
    "    except Exception as e:\n",
    "        print(\"Please install TensorFlow.\")\n",
    "        print(e)\n",
    "        return False\n",
    "    \n",
    "if check_gpu():\n",
    "    num_gpus = tf.config.list_physical_devices('GPU').__len__()\n",
    "    print(f'\\nNumber of GPUs available : {num_gpus}\\n')\n",
    "else:\n",
    "    print('\\nNo GPU found.\\n')\n",
    "check_gpu()"
   ]
  },
  {
   "cell_type": "code",
   "execution_count": 4,
   "metadata": {},
   "outputs": [
    {
     "name": "stdout",
     "output_type": "stream",
     "text": [
      "['c:\\\\Users\\\\Basit\\\\Desktop\\\\Machine Learning and Deep Learning\\\\04-Deep_Learning', 'c:\\\\Users\\\\Basit\\\\miniconda3\\\\envs\\\\python_ml\\\\python311.zip', 'c:\\\\Users\\\\Basit\\\\miniconda3\\\\envs\\\\python_ml\\\\DLLs', 'c:\\\\Users\\\\Basit\\\\miniconda3\\\\envs\\\\python_ml\\\\Lib', 'c:\\\\Users\\\\Basit\\\\miniconda3\\\\envs\\\\python_ml', '', 'c:\\\\Users\\\\Basit\\\\miniconda3\\\\envs\\\\python_ml\\\\Lib\\\\site-packages', 'c:\\\\Users\\\\Basit\\\\miniconda3\\\\envs\\\\python_ml\\\\Lib\\\\site-packages\\\\win32', 'c:\\\\Users\\\\Basit\\\\miniconda3\\\\envs\\\\python_ml\\\\Lib\\\\site-packages\\\\win32\\\\lib', 'c:\\\\Users\\\\Basit\\\\miniconda3\\\\envs\\\\python_ml\\\\Lib\\\\site-packages\\\\Pythonwin']\n"
     ]
    }
   ],
   "source": [
    "import sys\n",
    "print(sys.path)\n"
   ]
  },
  {
   "cell_type": "code",
   "execution_count": 1,
   "metadata": {},
   "outputs": [
    {
     "name": "stdout",
     "output_type": "stream",
     "text": [
      "3.11.5 | packaged by Anaconda, Inc. | (main, Sep 11 2023, 13:26:23) [MSC v.1916 64 bit (AMD64)]\n"
     ]
    }
   ],
   "source": [
    "import sys\n",
    "print(sys.version)\n"
   ]
  },
  {
   "cell_type": "code",
   "execution_count": 2,
   "metadata": {},
   "outputs": [
    {
     "name": "stdout",
     "output_type": "stream",
     "text": [
      "False\n"
     ]
    }
   ],
   "source": [
    "# checking if gpu is avaiable\n",
    "gpu = len(tf.config.list_physical_devices(\"GPU\"))>0\n",
    "print(gpu)"
   ]
  }
 ],
 "metadata": {
  "kernelspec": {
   "display_name": "python_DL",
   "language": "python",
   "name": "python3"
  },
  "language_info": {
   "codemirror_mode": {
    "name": "ipython",
    "version": 3
   },
   "file_extension": ".py",
   "mimetype": "text/x-python",
   "name": "python",
   "nbconvert_exporter": "python",
   "pygments_lexer": "ipython3",
   "version": "3.11.5"
  }
 },
 "nbformat": 4,
 "nbformat_minor": 2
}
