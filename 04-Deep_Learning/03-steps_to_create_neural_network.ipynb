{
 "cells": [
  {
   "cell_type": "markdown",
   "metadata": {},
   "source": []
  },
  {
   "cell_type": "markdown",
   "metadata": {},
   "source": [
    "# Steps To  Creat a Neural Network \n",
    "### 1. Install Required Libarires\n",
    "Ensure that tensorflow a powerful library for deep learning,is installed in your python enviroment.\n",
    "Enable Gpu if you have that in your system.\n",
    "### 2. Load the Dataset \n",
    "Ensure the data is prsent in your working enviroment.\n",
    "### 3. Data preprocessing \n",
    "#### 1. Missing values \n",
    "#### 2. Outliers \n",
    "#### 3. Scalling \n",
    "### 4. Encoding \n",
    "### 4. Select feature and target \n",
    "select x and y \n",
    "### 5. Split the dataset \n",
    "Split the dataset into one or two sets: one for training (training of the neural network) and one for testing (the performance of neural network). (test set)\n",
    "### 6. Standardizing the dataset\n",
    "Scale the feature with the mean of zero and standard deviation of unit 1. This standard deviation help in speeding up the training process and improving performance of the neural network.\n",
    "### 7. Building a Neural Network \n",
    "#### Define the model type \n",
    "Use a sequential, which is the linear stack of layers.\n",
    "#### Add Layers \n",
    "Add one hidden layer with 10 neurons, and use relu activation function for non-linear processing. Then, add an output layer with 1 neuron, using the sigmoid function suitable for binary classification.\n",
    "### 8. Compile the Model\n",
    "prepare the model for training by setting the optimizer (here,'adam' a popular choice), the loss function ('binary_crossentropy', used for binary classification task), and a metric to evaluate ('accuracy').\n",
    "### 9. Traning the Model\n",
    "Train the model using the training data. We Specifiy the number of epochs (iteration over entire dataset) and the batch size (number of samples per gardient update)\n",
    "### 10 Evaluate the Model\n",
    "Finallay test the performance of the model on the test data to see how well it learned to predict the target variable. "
   ]
  }
 ],
 "metadata": {
  "kernelspec": {
   "display_name": "python_DL",
   "language": "python",
   "name": "python3"
  },
  "language_info": {
   "name": "python",
   "version": "3.11.7"
  }
 },
 "nbformat": 4,
 "nbformat_minor": 2
}
