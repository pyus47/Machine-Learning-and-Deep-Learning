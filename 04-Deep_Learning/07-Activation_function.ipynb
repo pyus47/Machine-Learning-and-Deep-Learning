{
 "cells": [
  {
   "cell_type": "markdown",
   "metadata": {},
   "source": [
    "# How To use Activation function \n",
    "1. linear activation function \n",
    "2. Binary step activation function\n",
    "3. sigmoid activation function \n",
    "4. Tanh activation function \n",
    "5. relu activation function\n",
    "6. leaky relu activation function \n",
    "7. parameteric activation function \n",
    "8. softmax activation function \n",
    "\n"
   ]
  }
 ],
 "metadata": {
  "language_info": {
   "name": "python"
  }
 },
 "nbformat": 4,
 "nbformat_minor": 2
}
