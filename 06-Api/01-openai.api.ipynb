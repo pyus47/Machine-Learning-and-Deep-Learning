{
 "cells": [
  {
   "cell_type": "markdown",
   "metadata": {},
   "source": [
    "# Using Chatgpt for sentiment analysis and blog writting by using openai.api key"
   ]
  },
  {
   "cell_type": "markdown",
   "metadata": {},
   "source": [
    "# sentiment analysis"
   ]
  },
  {
   "cell_type": "code",
   "execution_count": null,
   "metadata": {},
   "outputs": [],
   "source": []
  },
  {
   "cell_type": "code",
   "execution_count": null,
   "metadata": {},
   "outputs": [],
   "source": [
    "import openai\n",
    "openai.api_key = ' '\n",
    "def sentiment_analysisS(text):\n",
    "    message = [\n",
    "        {'role':'system','content':''' you are trained to detect and analyze the sentiment of the given text\n",
    "         if you are unsure about the sentiment ask the user to review it manually.'''},\n",
    "         {'role':'user','content':f'''Please analyze the given text either the sentiment is positive or negative.\n",
    "          please given me an answer in single word {text}'''}\n",
    "    ]\n",
    "    Response = openai.chat.completions.create(model='gpt-3.5-turbo',\n",
    "                                          messages= message,\n",
    "                                          max_token= 1,\n",
    "                                          n = 1,\n",
    "                                           temperature = 0\n",
    "                                           )\n",
    "    response_text = Response.choices[0].message.content.strip.lower()\n",
    "    return response_text"
   ]
  }
 ],
 "metadata": {
  "language_info": {
   "name": "python"
  }
 },
 "nbformat": 4,
 "nbformat_minor": 2
}
