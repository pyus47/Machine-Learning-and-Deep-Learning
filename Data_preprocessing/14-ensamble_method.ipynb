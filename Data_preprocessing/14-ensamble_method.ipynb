{
 "cells": [
  {
   "cell_type": "markdown",
   "metadata": {},
   "source": [
    "# Ensamble Methods\n",
    "Ensamble methods is a machine learning technique that combine several base models  in order to produce one optimal predictive model.\n",
    "## Types of Ensamble Methods\n",
    "1. Bagging (Bootstrap Aggregating)\n",
    "2. Boosting\n",
    "3. stacking(Stacked Generalization)\n"
   ]
  },
  {
   "cell_type": "markdown",
   "metadata": {},
   "source": [
    "## Bagging (Bootstrap Aggregating)\n",
    "1. Bagging reduce variance and helps to avoid overfiting\n",
    "2. it involves creating multiple subsets of original datasets with replacements (bootstraping)\n",
    "3. traning a model on each subset\n",
    "4. And then aggerating their predications\n",
    "5. A common example is Random forest algorithim."
   ]
  },
  {
   "cell_type": "markdown",
   "metadata": {},
   "source": [
    "## Boosting \n",
    "1. Boosting turning weak learners into strong ones iteratively\n",
    "2. it adjust weight of an observation based on the last classification \n",
    "3. if the observation is classifiec incorrectly it tries to increase the weight of this observation vice versa\n",
    "4. Examples include **`AdaBoost`** **Gradient Boost** and **XGBoost**"
   ]
  },
  {
   "cell_type": "markdown",
   "metadata": {},
   "source": [
    "## stacking (Stacked Generilzation )\n",
    "1. stacking means training a new model in order to combine the predicitions of several base model.\n",
    "2. it typically involves two models base level models and a meat models that make a final prediction based on base level  outputs."
   ]
  },
  {
   "cell_type": "markdown",
   "metadata": {},
   "source": [
    "### why to use Ensamble Methods\n",
    "**`Accuracy`**\n"
   ]
  },
  {
   "cell_type": "code",
   "execution_count": null,
   "metadata": {},
   "outputs": [],
   "source": []
  },
  {
   "cell_type": "code",
   "execution_count": null,
   "metadata": {},
   "outputs": [],
   "source": []
  }
 ],
 "metadata": {
  "kernelspec": {
   "display_name": "python_ml",
   "language": "python",
   "name": "python3"
  },
  "language_info": {
   "codemirror_mode": {
    "name": "ipython",
    "version": 3
   },
   "file_extension": ".py",
   "mimetype": "text/x-python",
   "name": "python",
   "nbconvert_exporter": "python",
   "pygments_lexer": "ipython3",
   "version": "3.11.5"
  }
 },
 "nbformat": 4,
 "nbformat_minor": 2
}
