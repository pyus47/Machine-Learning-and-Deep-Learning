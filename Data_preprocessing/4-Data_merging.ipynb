{
 "cells": [
  {
   "cell_type": "markdown",
   "metadata": {},
   "source": [
    "# Data integration and nerging\n",
    "## here we are going to merge the data into  two or more datafrme togather \n",
    "using pd.merge and pd.concat method"
   ]
  },
  {
   "cell_type": "code",
   "execution_count": 2,
   "metadata": {},
   "outputs": [
    {
     "name": "stdout",
     "output_type": "stream",
     "text": [
      "   Id   name   Age       city Profession\n",
      "0   1  Usama  20.0     Bhakar       Data\n",
      "1   2  Hamza  10.0  Fasilabad     doctor\n",
      "2   3  Basit  24.0        NaN        NaN\n",
      "3   4    NaN   NaN    Bhakkar   Engineer\n",
      "-------------------------\n",
      "   Id   name  Age       city Profession\n",
      "0   1  Usama   20     Bhakar       Data\n",
      "1   2  Hamza   10  Fasilabad     doctor\n"
     ]
    }
   ],
   "source": [
    "import pandas as pd\n",
    "# let's first create data Frame \n",
    "data={'Id':[1,2,3],'name':['Usama','Hamza','Basit'],'Age':[20,10,24]}\n",
    "data1={'Id':[1,2,4],'city':['Bhakar','Fasilabad','Bhakkar'],'Profession':['Data','doctor','Engineer']}\n",
    "# let's make them into pandas dataframe\n",
    "df1=pd.DataFrame(data)\n",
    "df2=pd.DataFrame(data1)\n",
    "# now we are going to merge data \n",
    "merged_data=pd.merge(df1,df2, on='Id',how='outer')\n",
    "# let's merge data with inner command\n",
    "merged_data_inner=pd.merge(df1,df2,on='Id',how='inner')\n",
    "# now print the data\n",
    "print(merged_data)\n",
    "print(\"-------------------------\")\n",
    "print(merged_data_inner)"
   ]
  },
  {
   "cell_type": "markdown",
   "metadata": {},
   "source": [
    "# Concatenate method of data merging\n",
    "\n",
    "\n"
   ]
  },
  {
   "cell_type": "code",
   "execution_count": 3,
   "metadata": {},
   "outputs": [
    {
     "name": "stdout",
     "output_type": "stream",
     "text": [
      "    name  age\n",
      "0  usama   20\n",
      "1  hamza   21\n",
      "2  basit   22\n",
      "0  usama   16\n",
      "1  hamza   30\n",
      "2  basit   28\n",
      "-------------------------\n",
      "    name  age       city     province\n",
      "0  usama   20    Karachi       punjab\n",
      "1  hamza   21     lahore        sindh\n",
      "2  basit   22  islamabad  balochistan\n"
     ]
    }
   ],
   "source": [
    "#example data \n",
    "data1={'name':['usama','hamza','basit'],'age':[20,21,22]}\n",
    "data2={'name':['usama','hamza','basit'],'age':[16,30,28]}\n",
    "data3={'city':['Karachi','lahore','islamabad'],'province':['punjab','sindh','balochistan']}\n",
    "# pandas dataframe\n",
    "df1=pd.DataFrame(data1)\n",
    "df2=pd.DataFrame(data2)\n",
    "df3=pd.DataFrame(data3)\n",
    "#let's concatenate these data togather\n",
    "merged_rows=pd.concat([df1,df2])\n",
    "# let's print this data \n",
    "print(merged_rows)\n",
    "#let's concate data with columns\n",
    "merged_columns=pd.concat([df1,df3],axis=1)\n",
    "print('-------------------------')\n",
    "print(merged_columns)"
   ]
  }
 ],
 "metadata": {
  "kernelspec": {
   "display_name": "python_ml",
   "language": "python",
   "name": "python3"
  },
  "language_info": {
   "codemirror_mode": {
    "name": "ipython",
    "version": 3
   },
   "file_extension": ".py",
   "mimetype": "text/x-python",
   "name": "python",
   "nbconvert_exporter": "python",
   "pygments_lexer": "ipython3",
   "version": "3.11.5"
  }
 },
 "nbformat": 4,
 "nbformat_minor": 2
}
