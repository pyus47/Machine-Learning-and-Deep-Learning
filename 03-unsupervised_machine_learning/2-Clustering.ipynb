{
 "cells": [
  {
   "cell_type": "markdown",
   "metadata": {},
   "source": [
    "# Clustering: \n",
    "clustering is the fundamental technique in supervised machine learning.We try to identify groups or patterns in data on the basis of similarites and differences among the data. \n",
    "## Beneftis of Clustering:\n",
    "### 1. Data Exploration and better understanding of Data: \n",
    "Relationship between different attributes,number of different of groups, distribution of data \n",
    "### 2. Pattern Detection To Check Trend of the Data:\n",
    "What different patterns or trends different clusters  are showing.\n",
    "### 3. Dimensionality Reduction:\n",
    "We reduce the attributes which are similar to each other and less usefull in modeling by looking at the clusters.\n",
    "### 4. Preprocessing of Data:\n",
    "Centroid Detection and replacing missing values with the mean of centroid Detection.\n",
    "### 5. Image segemention:\n",
    "we can use k mean clustering. And then convert bitonal image into binary clusters of 0 and 1. \n",
    "### 6. Recomendation Systems: \n",
    "Clustering is used in recomendation systems. Clusters of videos or answers are made based on previous likes and dislikes of the preson."
   ]
  }
 ],
 "metadata": {
  "kernelspec": {
   "display_name": "python_ml",
   "language": "python",
   "name": "python3"
  },
  "language_info": {
   "name": "python",
   "version": "3.11.5"
  }
 },
 "nbformat": 4,
 "nbformat_minor": 2
}
