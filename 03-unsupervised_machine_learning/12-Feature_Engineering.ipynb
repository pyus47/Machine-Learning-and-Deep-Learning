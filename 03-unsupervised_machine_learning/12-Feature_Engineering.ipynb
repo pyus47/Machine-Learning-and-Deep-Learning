{
 "cells": [
  {
   "cell_type": "markdown",
   "metadata": {},
   "source": [
    "# Feature Engineering\n",
    "Feature Engineering is a process of creating a new features or transforming existing one from the raw data to improve the performance of the machine learning models.\n",
    "## Steps of Feature Engineering\n",
    "### 1.Analyse the Existing features \n",
    "1. Check missing values \n",
    "2. Check outliers \n",
    "3. Anomaly Detection\n",
    "### 2. Creating meaningful new features \n",
    "### 3. How these features contribute to each model training\n",
    "### 4. Re-iterations\n",
    "creating new features based on the ml models\n",
    "### 5. Feature Selection\n",
    "Final Step selecting features for model training\n",
    "### Featuring Engineering of Time Series Data\n"
   ]
  }
 ],
 "metadata": {
  "kernelspec": {
   "display_name": "python_ml",
   "language": "python",
   "name": "python3"
  },
  "language_info": {
   "codemirror_mode": {
    "name": "ipython",
    "version": 3
   },
   "file_extension": ".py",
   "mimetype": "text/x-python",
   "name": "python",
   "nbconvert_exporter": "python",
   "pygments_lexer": "ipython3",
   "version": "3.11.5"
  }
 },
 "nbformat": 4,
 "nbformat_minor": 2
}
