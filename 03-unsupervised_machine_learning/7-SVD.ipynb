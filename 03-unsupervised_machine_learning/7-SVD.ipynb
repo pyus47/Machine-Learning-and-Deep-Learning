{
 "cells": [
  {
   "cell_type": "markdown",
   "metadata": {},
   "source": [
    "# SVD (singular value Decomposition):\n",
    "\n",
    "1. svd is a technique of unsupervised learning used for dimensionality reduction, noise reduction and data compression.\n",
    "2. it is used for data filtering.\n",
    "3. svd is a linear algebara method that is used to decompose bigger matrix into smaller one.\n",
    "4. It break higher dimensional data into lower dimensional data.Thus it saves memory and resource optimization.\n",
    "## Orthogonal matrix:\n",
    "A high dimensional matrix is broken down into two square matrix called orthogonal matrix and one diagonal matrix.\n",
    "\n",
    "\n",
    "## Latent variable\n",
    "A latent variable is a variable that can't be observed directly.it can infered or conceptualize by measuring other measureable variables.\n",
    "\n",
    "\n"
   ]
  }
 ],
 "metadata": {
  "language_info": {
   "name": "python"
  }
 },
 "nbformat": 4,
 "nbformat_minor": 2
}
