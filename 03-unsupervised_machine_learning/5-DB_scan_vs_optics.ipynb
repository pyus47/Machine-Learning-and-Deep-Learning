{
 "cells": [
  {
   "cell_type": "markdown",
   "metadata": {},
   "source": [
    "# DBSCAN And Optics \n",
    "DBScan and optics both are density based clustering algorithms that group together the data points that are close to each and other in feature space.\n",
    "However, there are some difference between  both algortihms in terms of scalability and performance.\n",
    "\n",
    "DBSCAN:\n"
   ]
  },
  {
   "cell_type": "code",
   "execution_count": null,
   "metadata": {},
   "outputs": [],
   "source": []
  }
 ],
 "metadata": {
  "language_info": {
   "name": "python"
  }
 },
 "nbformat": 4,
 "nbformat_minor": 2
}
