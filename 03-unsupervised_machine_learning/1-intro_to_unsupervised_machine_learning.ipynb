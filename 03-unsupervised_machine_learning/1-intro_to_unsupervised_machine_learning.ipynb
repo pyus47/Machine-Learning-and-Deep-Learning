{
 "cells": [
  {
   "cell_type": "markdown",
   "metadata": {},
   "source": [
    "# Unsupervised Machine Learning\n",
    "Unsupervised Machine Learning is a type of  non supervised  machine learning. Here labels of inputs and outputs aren't provivded. Only features are given to extract patern from them.\n",
    "1. We classifies the data points based on the shared patterns among them into different groups or clusters.\n",
    "## Clustering Algorithms\n",
    "### 1. K Means Clustering: \n",
    "we Classifies the data points into k clusters based on the similarity among them.\n",
    "1. It decreases the intracluster variance and increases intercluster variances.\n",
    "### 2. Hierarchical Clustering:\n",
    "It make orders of cluster based on the similarity among them. \n",
    "1. The first it cluster at major level. \n",
    "2. Then it cluster things ata minor level.\n",
    "### 3. DBSCAN Clustering:\n",
    "Density Based Spatial Clustering of application with noise.\\\n",
    "it make groups or cluster of data based on density of data. it make groups where data is dense and shallow.\n",
    "### 4. Gaussian Mixture Models Clustering:\n",
    "it make cluster based on the distribution of the data. The data which gaussian distributed make one cluster and which is not gaussian distributed make another cluster.\n",
    "## Dimensionality Reduction Algorithms:\n",
    "These Algorithms reduceses the dimensions of the data into less dimensions. \n",
    "### 1. Principal component Analysis:\n",
    "\n",
    "### 2. t-SNE Distribution:\n",
    "\n",
    "### 3. Singular value decomposition:\n",
    "\n",
    "### 4. Autoencoders:\n",
    "\n",
    "## Anomonly Dectection Algorithms:\n",
    "These algorithms seperators the mean data from the extreme data points.\n",
    "### 1.Isolation Forest:\n",
    "\n",
    "### 2. Local Outlier Factor:\n",
    "\n",
    "### 3. One Class svm (support vector machines)\n",
    "\n",
    "## Association Rule Learning \n",
    "## Topic Modelling \n",
    "## Neural Network Based Algorithms"
   ]
  }
 ],
 "metadata": {
  "kernelspec": {
   "display_name": "python_ml",
   "language": "python",
   "name": "python3"
  },
  "language_info": {
   "name": "python",
   "version": "3.11.5"
  }
 },
 "nbformat": 4,
 "nbformat_minor": 2
}
