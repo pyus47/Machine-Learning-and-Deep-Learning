{
 "cells": [
  {
   "cell_type": "markdown",
   "metadata": {},
   "source": [
    "# Feature Selection \n",
    "Feature selection is a process used in machine learning and statistics to choose the most relevant features or variables fora predicitve model.It aims to improve model performance, reduce overfiting, and enhance interpretability by eliminating irrelevant or redundant features.\n",
    "\n",
    "## Method of feature selections.\n",
    "### 1. Filter Methods: \n",
    "These methods evaluate the relevance of features based on statistical measures like correlation, mutual information or chi-square test. Features are ranked or scored independently of the chosen model.\n",
    "### 2. Wrapper Methods:\n",
    "Wrapper methods evaluate subsets of featurs by training and tesing models iteratively. Examples inlude forward selection, backward elimination,and recursive feature elimination.\n",
    "### 3. Embedded Methods:\n",
    "These methods incorporate feature selection as part of the model training process. Examples include Lasso (least Absolute Shrinkage and Selection Operator) and tree base models like Random Forest, which atuomatically selects relvent features during training.\n",
    "### 4. Dimensionality Reduction \n",
    "Techniques like principal Component Analysis (PCA) and t-Distributed Stochastic Neighbhor Embedding (t-SNE) reduce the dimensionality of the feature space while preserving important information. These methods can indirectly perform feature Selection by focusing on the most informative components of projections.\n",
    "### 5. Feature Importance\n",
    "Some models like tree based models random forest and boosting based gradient machines, provide feature importance scores, indicating the contribution of each feature of to the model performance. Features with higher importance scores are typically consider more relevant.\n",
    "### Deep Learning Based Models\n",
    "AutoEncoders are the Deep learning based models used featue selection."
   ]
  },
  {
   "cell_type": "code",
   "execution_count": null,
   "metadata": {},
   "outputs": [],
   "source": []
  }
 ],
 "metadata": {
  "language_info": {
   "name": "python"
  }
 },
 "nbformat": 4,
 "nbformat_minor": 2
}
