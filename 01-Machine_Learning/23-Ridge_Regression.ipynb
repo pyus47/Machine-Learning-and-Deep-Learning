{
 "cells": [
  {
   "cell_type": "markdown",
   "metadata": {},
   "source": [
    "# Ridge Regression L2 Regularization\n",
    "Ridge Regression is the regurlarized form  of linear regression"
   ]
  },
  {
   "cell_type": "code",
   "execution_count": null,
   "metadata": {},
   "outputs": [
    {
     "name": "stdout",
     "output_type": "stream",
     "text": [
      "coeffficents: [0.8 1.4]\n",
      "Intrecept: 4.5\n"
     ]
    }
   ],
   "source": [
    "# coding of Ridge Regression \n",
    "from sklearn.linear_model import Ridge\n",
    "import numpy as np \n",
    "# Example data \n",
    "x = np.array([[1,1],[1,2],[2,2],[2,3]])\n",
    "# select target \n",
    "y = np.dot(x,np.array([1,2])) +3\n",
    "\n",
    "Ridge_reg = Ridge(alpha=1.0) # alpha is equilvalent\n",
    "Ridge_reg.fit(x,y)\n",
    "# print coefficents \n",
    "print('coeffficents:',Ridge_reg.coef_)\n",
    "# print intercept \n",
    "print('Intrecept:',Ridge_reg.intercept_)\n"
   ]
  },
  {
   "cell_type": "markdown",
   "metadata": {},
   "source": [
    "# Comparison of Simple Linear Regression vs Ridge Regression"
   ]
  },
  {
   "cell_type": "code",
   "execution_count": 2,
   "metadata": {},
   "outputs": [],
   "source": [
    "# importing libraries \n",
    "import pandas as pd \n",
    "import numpy as np \n",
    "import seaborn as sns \n",
    "from sklearn.preprocessing import LabelEncoder\n",
    "from sklearn.preprocessing import MinMaxScaler\n",
    "from sklearn.compose import ColumnTransformer\n",
    "from sklearn.metrics import mean_squared_error\n",
    "from sklearn.preprocessing import OneHotEncoder\n",
    "from sklearn.pipeline import Pipeline\n",
    "from sklearn.model_selection import train_test_split\n",
    "from sklearn.linear_model import LinearRegression,Ridge\n",
    "# load the dataset \n",
    "df = sns.load_dataset('titanic')\n",
    "\n"
   ]
  },
  {
   "cell_type": "markdown",
   "metadata": {},
   "source": [
    "### Preprocessing of Data and columns selection"
   ]
  },
  {
   "cell_type": "code",
   "execution_count": 16,
   "metadata": {},
   "outputs": [
    {
     "data": {
      "text/plain": [
       "sex         0\n",
       "fare        0\n",
       "pclass      0\n",
       "age       177\n",
       "dtype: int64"
      ]
     },
     "execution_count": 16,
     "metadata": {},
     "output_type": "execute_result"
    }
   ],
   "source": [
    "x.isnull().sum()"
   ]
  },
  {
   "cell_type": "code",
   "execution_count": 17,
   "metadata": {},
   "outputs": [
    {
     "name": "stdout",
     "output_type": "stream",
     "text": [
      "Mean squared error of lr is: 0.13716820530825374\n",
      "Mean Squared Error of Rr is: 0.13718838549258477\n"
     ]
    }
   ],
   "source": [
    "df = df[['survived','sex','fare','pclass','age']]\n",
    "# defining categorical and numerical features \n",
    "cat_featuers = ['sex']\n",
    "num_features= ['fare','pclass','age']\n",
    "# selecting x and y \n",
    "x = df.drop('survived',axis=1)\n",
    "x['age'].fillna(x['age'].median(),inplace=True)\n",
    "y = df['survived']\n",
    "# spilt the dataset into training and testing dataset \n",
    "x_train,x_test,y_train,y_test = train_test_split(x,y,test_size=0.2,random_state=42)\n",
    "# preprocessor \n",
    "preprocessor = ColumnTransformer(transformers=[('num','passthrough',num_features),\n",
    "                                               ('cat',OneHotEncoder(),cat_featuers)])\n",
    "# linear_regression pipeline \n",
    "lr_pipeline = Pipeline(steps=[('preprocessor',preprocessor),\n",
    "                              ('regressor',LinearRegression())])\n",
    "# Ridge regression pipeline \n",
    "Rr_pipeline= Pipeline(steps=[('preprocessor',preprocessor),\n",
    "                             ('regressor',Ridge(alpha=1.0))])\n",
    "lr_pipeline.fit(x_train,y_train)\n",
    "lr_pred= lr_pipeline.predict(x_test)\n",
    "# now doing same with Ridge Regession\n",
    "Rr_pipeline.fit(x_train,y_train)\n",
    "Rr_pred=Rr_pipeline.predict(x_test)\n",
    "# now claucalting their mean squared error \n",
    "lr_error = mean_squared_error(y_test,lr_pred)\n",
    "Rr_error = mean_squared_error(y_test,Rr_pred)\n",
    "# now print both error \n",
    "print('Mean squared error of lr is:',lr_error)\n",
    "print('Mean Squared Error of Rr is:',Rr_error)\n"
   ]
  },
  {
   "cell_type": "code",
   "execution_count": 32,
   "metadata": {},
   "outputs": [
    {
     "name": "stdout",
     "output_type": "stream",
     "text": [
      "0.16664509344267067\n",
      "0.16660695972498268\n"
     ]
    },
    {
     "name": "stderr",
     "output_type": "stream",
     "text": [
      "c:\\Users\\Basit\\miniconda3\\envs\\python_ml\\Lib\\site-packages\\sklearn\\preprocessing\\_label.py:114: DataConversionWarning: A column-vector y was passed when a 1d array was expected. Please change the shape of y to (n_samples, ), for example using ravel().\n",
      "  y = column_or_1d(y, warn=True)\n"
     ]
    }
   ],
   "source": [
    "df = sns.load_dataset('titanic')\n",
    "# imputating missing values \n",
    "df['age'].fillna(df['age'].median(),inplace=True)\n",
    "#select the features and target \n",
    "df = df[['age','sex','fare','pclass','survived']]\n",
    "x = df.drop('survived',axis=1)\n",
    "y = df['survived']\n",
    "# encoding categorical variable \n",
    "Encoder = LabelEncoder()\n",
    "\n",
    "x['sex'] =Encoder.fit_transform(x[['sex']])\n",
    "# split the data into test and training \n",
    "x_train,x_test,y_train,y_test =train_test_split(x,y,test_size=0.2,random_state=2)\n",
    "# calling model here \n",
    "lr_reg = LinearRegression()\n",
    "lr_reg.fit(x_train,y_train)\n",
    "# pred \n",
    "lr_pred= lr_reg.predict(x_test)\n",
    "# error \n",
    "error=mean_squared_error(y_test,lr_pred)\n",
    "print(error)\n",
    "Rr_reg=Ridge(alpha=1.0)\n",
    "Rr_reg.fit(x_train,y_train)\n",
    "# pred \n",
    "Rr_pred= Rr_reg.predict(x_test)\n",
    "# Error\n",
    "error = mean_squared_error(y_test,Rr_pred)\n",
    "print(error)"
   ]
  }
 ],
 "metadata": {
  "kernelspec": {
   "display_name": "python_ml",
   "language": "python",
   "name": "python3"
  },
  "language_info": {
   "codemirror_mode": {
    "name": "ipython",
    "version": 3
   },
   "file_extension": ".py",
   "mimetype": "text/x-python",
   "name": "python",
   "nbconvert_exporter": "python",
   "pygments_lexer": "ipython3",
   "version": "3.11.5"
  }
 },
 "nbformat": 4,
 "nbformat_minor": 2
}
