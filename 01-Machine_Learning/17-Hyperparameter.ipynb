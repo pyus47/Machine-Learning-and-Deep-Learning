{
 "cells": [
  {
   "cell_type": "markdown",
   "metadata": {},
   "source": [
    "# Hyperparameter tuning\n",
    "Hyperparameter tuning is the process of finding the best combination of hyperparameters for a given model.\\\n",
    "**`Types`**:\n",
    "- Grid Seacrh: exhaustive search overall possible combination of the hyperparameters.\n",
    "- Random Search: Randomnly samples of possible combinations of hyperparameters for a given distribution\n",
    "- Bayesian optimization: Model the objective function and search for the maximunm.\n",
    "- Gradient-based optimization: use gradient to find minimum of the objective function."
   ]
  },
  {
   "cell_type": "code",
   "execution_count": 5,
   "metadata": {},
   "outputs": [
    {
     "name": "stdout",
     "output_type": "stream",
     "text": [
      "Fitting 5 folds for each of 84 candidates, totalling 420 fits\n",
      "best paramerters: {'criterion': 'gini', 'max_depth': 4, 'n_estimators': 100}\n"
     ]
    }
   ],
   "source": [
    "from sklearn.ensemble import RandomForestClassifier\n",
    "from sklearn.model_selection import GridSearchCV,RandomizedSearchCV\n",
    "from sklearn.datasets import load_iris\n",
    "# now split the data into x and y \n",
    "iris = load_iris()\n",
    "x = iris.data \n",
    "y = iris.target\n",
    "\n",
    "# initialize the model \n",
    "model= RandomForestClassifier()\n",
    "# NOW MAKE DICTIONARY OF PARAMETER GRID\n",
    "para_grid={'n_estimators':[50,100,150,200,250,300],\n",
    "           'max_depth':[4,5,6,7,8,9,10],\n",
    "           'criterion':['gini','entropy']}\n",
    "grid=GridSearchCV(estimator=model,param_grid=para_grid,cv=5, scoring='accuracy',verbose=1,n_jobs=-1)\n",
    "grid.fit(x,y)\n",
    "# print best parameters \n",
    "print(f'best paramerters: {grid.best_params_}')"
   ]
  },
  {
   "cell_type": "code",
   "execution_count": 7,
   "metadata": {},
   "outputs": [
    {
     "name": "stdout",
     "output_type": "stream",
     "text": [
      "Fitting 5 folds for each of 20 candidates, totalling 100 fits\n"
     ]
    },
    {
     "name": "stderr",
     "output_type": "stream",
     "text": [
      "c:\\Users\\Basit\\miniconda3\\envs\\python_ml\\Lib\\site-packages\\sklearn\\model_selection\\_search.py:979: UserWarning: One or more of the test scores are non-finite: [nan nan nan nan nan nan nan nan nan nan nan nan nan nan nan nan nan nan\n",
      " nan nan]\n",
      "  warnings.warn(\n"
     ]
    },
    {
     "name": "stdout",
     "output_type": "stream",
     "text": [
      "best paameter:{'n_estimators': 150, 'max_depth': 5, 'criterion': 'gini'}\n"
     ]
    }
   ],
   "source": [
    "randomgrid=RandomizedSearchCV(estimator=model,param_distributions=para_grid,cv=5,scoring='f1',verbose=1,n_jobs=-1,n_iter=20)\n",
    "#fit the grid \n",
    "randomgrid.fit(x,y)\n",
    "print(f'best paameter:{randomgrid.best_params_}')"
   ]
  }
 ],
 "metadata": {
  "kernelspec": {
   "display_name": "python_ml",
   "language": "python",
   "name": "python3"
  },
  "language_info": {
   "codemirror_mode": {
    "name": "ipython",
    "version": 3
   },
   "file_extension": ".py",
   "mimetype": "text/x-python",
   "name": "python",
   "nbconvert_exporter": "python",
   "pygments_lexer": "ipython3",
   "version": "3.11.5"
  }
 },
 "nbformat": 4,
 "nbformat_minor": 2
}
