{
 "cells": [
  {
   "cell_type": "markdown",
   "metadata": {},
   "source": [
    "# Selecting The Best Model with Best Hyperparameters "
   ]
  },
  {
   "cell_type": "code",
   "execution_count": 8,
   "metadata": {},
   "outputs": [
    {
     "name": "stdout",
     "output_type": "stream",
     "text": [
      "   total_bill   tip     sex smoker  day    time  size\n",
      "0       16.99  1.01  Female     No  Sun  Dinner     2\n",
      "1       10.34  1.66    Male     No  Sun  Dinner     3\n",
      "2       21.01  3.50    Male     No  Sun  Dinner     3\n",
      "3       23.68  3.31    Male     No  Sun  Dinner     2\n",
      "4       24.59  3.61  Female     No  Sun  Dinner     4\n",
      "---------------------\n",
      "Index(['total_bill', 'tip', 'sex', 'smoker', 'day', 'time', 'size'], dtype='object')\n"
     ]
    }
   ],
   "source": [
    "# load the datsset and stroning it in df variable \n",
    "df = sns.load_dataset('tips')\n",
    "# first glance at the data \n",
    "print(df.head())\n",
    "print('---------------------')\n",
    "# print all the columns in the dataset\n",
    "print(df.columns)"
   ]
  },
  {
   "cell_type": "code",
   "execution_count": 32,
   "metadata": {},
   "outputs": [
    {
     "name": "stdout",
     "output_type": "stream",
     "text": [
      "R2_score for SVR is 0.57\n",
      "R2_score for LinearRegression is 0.44\n",
      "R2_score for XGBRegressor is 0.41\n",
      "R2_score for GradientBoostingRegressor is 0.35\n",
      "R2_score for KNeighborsRegressor is 0.33\n",
      "R2_score for RandomForestRegressor is 0.27\n",
      "R2_score for DecisionTreeRegressor is -0.06\n",
      "CPU times: total: 484 ms\n",
      "Wall time: 635 ms\n"
     ]
    }
   ],
   "source": [
    "%%time\n",
    "# selectin The features and Labels \n",
    "x = df.drop('tip',axis=1)\n",
    "y = df['tip']\n",
    "# label encode the categorical variables \n",
    "# initialize the label enocder  and using for loop to encode all categorical variables \n",
    "for col in x.columns:\n",
    "    if x[col].dtype =='category':\n",
    "        le = LabelEncoder()\n",
    "        x[col]=le.fit_transform(x[col])\n",
    "# split the data using train test split \n",
    "x_train,x_test,y_train,y_test= train_test_split(x,y,test_size=0.2,random_state=42)\n",
    "# create a dictionary of models with their into a model object \n",
    "model = {'LinearRegression':LinearRegression(),\n",
    "         'SVR': SVR(),\n",
    "         'DecisionTreeRegressor': DecisionTreeRegressor(),\n",
    "         'RandomForestRegressor': RandomForestRegressor(),\n",
    "         'GradientBoostingRegressor':GradientBoostingRegressor(),\n",
    "         'KNeighborsRegressor':KNeighborsRegressor(),\n",
    "         'XGBRegressor': XGBRegressor()}\n",
    "\n",
    "# Making a list to store the scores of the modesl \n",
    "models_score = []\n",
    "# fit the modesls into the data \n",
    "for name , model in model.items():\n",
    "    # fiting each model on the training data \n",
    "    model.fit(x_train,y_train)\n",
    "    # making predication from each model \n",
    "    y_pred = model.predict(x_test)\n",
    "    # Evaluating the performance of each model \n",
    "    metric = r2_score(y_test,y_pred)\n",
    "    # appending model name and its accuracy score into models_score list\n",
    "    models_score.append((name,metric))\n",
    "# we are goinng to sorted the model besed on their accuracy \n",
    "sorted_models= sorted(models_score, key=lambda x: x[1],reverse= True)\n",
    "# we are goint print the mean absloute of error of each model \n",
    "for model in sorted_models:\n",
    "    print(\"R2_score for\",f'{model[0]} is {model[1]:.2f}')"
   ]
  },
  {
   "cell_type": "markdown",
   "metadata": {},
   "source": [
    "## Find out the best model based on the metrics using diamond dataset \n"
   ]
  },
  {
   "cell_type": "code",
   "execution_count": 34,
   "metadata": {},
   "outputs": [
    {
     "data": {
      "text/html": [
       "<div>\n",
       "<style scoped>\n",
       "    .dataframe tbody tr th:only-of-type {\n",
       "        vertical-align: middle;\n",
       "    }\n",
       "\n",
       "    .dataframe tbody tr th {\n",
       "        vertical-align: top;\n",
       "    }\n",
       "\n",
       "    .dataframe thead th {\n",
       "        text-align: right;\n",
       "    }\n",
       "</style>\n",
       "<table border=\"1\" class=\"dataframe\">\n",
       "  <thead>\n",
       "    <tr style=\"text-align: right;\">\n",
       "      <th></th>\n",
       "      <th>carat</th>\n",
       "      <th>cut</th>\n",
       "      <th>color</th>\n",
       "      <th>clarity</th>\n",
       "      <th>depth</th>\n",
       "      <th>table</th>\n",
       "      <th>price</th>\n",
       "      <th>x</th>\n",
       "      <th>y</th>\n",
       "      <th>z</th>\n",
       "    </tr>\n",
       "  </thead>\n",
       "  <tbody>\n",
       "    <tr>\n",
       "      <th>0</th>\n",
       "      <td>0.23</td>\n",
       "      <td>Ideal</td>\n",
       "      <td>E</td>\n",
       "      <td>SI2</td>\n",
       "      <td>61.5</td>\n",
       "      <td>55.0</td>\n",
       "      <td>326</td>\n",
       "      <td>3.95</td>\n",
       "      <td>3.98</td>\n",
       "      <td>2.43</td>\n",
       "    </tr>\n",
       "    <tr>\n",
       "      <th>1</th>\n",
       "      <td>0.21</td>\n",
       "      <td>Premium</td>\n",
       "      <td>E</td>\n",
       "      <td>SI1</td>\n",
       "      <td>59.8</td>\n",
       "      <td>61.0</td>\n",
       "      <td>326</td>\n",
       "      <td>3.89</td>\n",
       "      <td>3.84</td>\n",
       "      <td>2.31</td>\n",
       "    </tr>\n",
       "    <tr>\n",
       "      <th>2</th>\n",
       "      <td>0.23</td>\n",
       "      <td>Good</td>\n",
       "      <td>E</td>\n",
       "      <td>VS1</td>\n",
       "      <td>56.9</td>\n",
       "      <td>65.0</td>\n",
       "      <td>327</td>\n",
       "      <td>4.05</td>\n",
       "      <td>4.07</td>\n",
       "      <td>2.31</td>\n",
       "    </tr>\n",
       "    <tr>\n",
       "      <th>3</th>\n",
       "      <td>0.29</td>\n",
       "      <td>Premium</td>\n",
       "      <td>I</td>\n",
       "      <td>VS2</td>\n",
       "      <td>62.4</td>\n",
       "      <td>58.0</td>\n",
       "      <td>334</td>\n",
       "      <td>4.20</td>\n",
       "      <td>4.23</td>\n",
       "      <td>2.63</td>\n",
       "    </tr>\n",
       "    <tr>\n",
       "      <th>4</th>\n",
       "      <td>0.31</td>\n",
       "      <td>Good</td>\n",
       "      <td>J</td>\n",
       "      <td>SI2</td>\n",
       "      <td>63.3</td>\n",
       "      <td>58.0</td>\n",
       "      <td>335</td>\n",
       "      <td>4.34</td>\n",
       "      <td>4.35</td>\n",
       "      <td>2.75</td>\n",
       "    </tr>\n",
       "  </tbody>\n",
       "</table>\n",
       "</div>"
      ],
      "text/plain": [
       "   carat      cut color clarity  depth  table  price     x     y     z\n",
       "0   0.23    Ideal     E     SI2   61.5   55.0    326  3.95  3.98  2.43\n",
       "1   0.21  Premium     E     SI1   59.8   61.0    326  3.89  3.84  2.31\n",
       "2   0.23     Good     E     VS1   56.9   65.0    327  4.05  4.07  2.31\n",
       "3   0.29  Premium     I     VS2   62.4   58.0    334  4.20  4.23  2.63\n",
       "4   0.31     Good     J     SI2   63.3   58.0    335  4.34  4.35  2.75"
      ]
     },
     "execution_count": 34,
     "metadata": {},
     "output_type": "execute_result"
    }
   ],
   "source": [
    "diamonds = sns.load_dataset('diamonds')\n",
    "diamonds.head()"
   ]
  },
  {
   "cell_type": "code",
   "execution_count": 55,
   "metadata": {},
   "outputs": [
    {
     "name": "stdout",
     "output_type": "stream",
     "text": [
      "Mean Absolute Error RandomForestRegressor,is 268.36\n",
      "Mean Absolute Error XGBRegressor,is 277.94\n",
      "Mean Absolute Error DecisionTreeRegressor,is 352.87\n",
      "Mean Absolute Error GradientBoostingRegressor,is 364.88\n",
      "Mean Absolute Error KNeighborsRegressor,is 480.77\n",
      "Mean Absolute Error LinearRegression,is 858.71\n",
      "Mean Absolute Error SVR,is 2747.33\n",
      "CPU times: total: 4min 31s\n",
      "Wall time: 4min 51s\n"
     ]
    }
   ],
   "source": [
    "%%time\n",
    "# selecting the features and lables \n",
    "x = diamonds.drop('price',axis= 1 )\n",
    "y = diamonds['price']\n",
    "# feature encoding the categorical variables \n",
    "for col in diamonds.columns:\n",
    "    if diamonds[col].dtype=='category':\n",
    "        le = LabelEncoder()\n",
    "        diamonds[col]= le.fit_transform(diamonds[col])\n",
    "# spliting the data into traning and testing using train test split \n",
    "x_train,x_test,y_train,y_test= train_test_split(x,y ,test_size=0.2,random_state=42)\n",
    "# making a dictionary object of model \n",
    "model = {'LinearRegression':LinearRegression(),\n",
    "         'SVR':SVR(),\n",
    "         'DecisionTreeRegressor':DecisionTreeRegressor(),\n",
    "         'RandomForestRegressor':RandomForestRegressor(),\n",
    "         'GradientBoostingRegressor':GradientBoostingRegressor(),\n",
    "         'KNeighborsRegressor':KNeighborsRegressor(),\n",
    "         'XGBRegressor': XGBRegressor()}\n",
    "# making a list to store the name and score of the model \n",
    "model_score = []\n",
    "# now fiting the model on the traning data \n",
    "for name, model in model.items():\n",
    "    model.fit(x_train,y_train)\n",
    "    # Make predications from the model \n",
    "    y_pred = model.predict(x_test)\n",
    "    # Evaluate the performance of the model \n",
    "    metric = mean_absolute_error(y_test,y_pred)\n",
    "    model_score.append((name,metric))\n",
    "\n",
    "# now we are going to sort the model on basis of mean absolute error \n",
    "sorted_model = sorted(model_score,key= lambda x: x[1], reverse= False)\n",
    "# print the model name and their error score \n",
    "for model in sorted_model:\n",
    "     print('Mean Absolute Error', f'{model[0]},is {model[1]:.2f}')"
   ]
  },
  {
   "cell_type": "markdown",
   "metadata": {},
   "source": [
    "### Selecting The Best Model With Hyperparamters"
   ]
  }
 ],
 "metadata": {
  "kernelspec": {
   "display_name": "python_ml",
   "language": "python",
   "name": "python3"
  },
  "language_info": {
   "codemirror_mode": {
    "name": "ipython",
    "version": 3
   },
   "file_extension": ".py",
   "mimetype": "text/x-python",
   "name": "python",
   "nbconvert_exporter": "python",
   "pygments_lexer": "ipython3",
   "version": "3.11.5"
  }
 },
 "nbformat": 4,
 "nbformat_minor": 2
}
