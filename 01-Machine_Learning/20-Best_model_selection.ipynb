{
 "cells": [
  {
   "cell_type": "markdown",
   "metadata": {},
   "source": [
    "# Selecting The Best Model For Machine Learnig Task\n",
    "To select best model when using multiple models in a pipeline you can use techniques like cross-validation and evluation metrics to compare their performance.Here's an example of how to accomplish this on titanic dataset."
   ]
  },
  {
   "cell_type": "code",
   "execution_count": 8,
   "metadata": {},
   "outputs": [
    {
     "name": "stdout",
     "output_type": "stream",
     "text": [
      "model: Random Forest\n",
      "cross_validation_accuracy: 0.7991726583275879\n",
      "Test_accuracy: 0.8156424581005587\n",
      "model: Gradient Boosting\n",
      "cross_validation_accuracy: 0.8062050625430907\n",
      "Test_accuracy: 0.8044692737430168\n",
      "model: xgboost\n",
      "cross_validation_accuracy: 0.8090318132571653\n",
      "Test_accuracy: 0.7932960893854749\n",
      "Best model: Pipeline(steps=[('imputer', SimpleImputer(strategy='most_frequent')),\n",
      "                ('encoder', OneHotEncoder(handle_unknown='ignore')),\n",
      "                ('model', RandomForestClassifier(random_state=42))])\n"
     ]
    }
   ],
   "source": [
    "import pandas as pd \n",
    "import seaborn as sns \n",
    "import matplotlib.pyplot as plt \n",
    "import numpy as np \n",
    "from sklearn.model_selection import train_test_split,cross_val_score, GridSearchCV\n",
    "from sklearn. preprocessing import OneHotEncoder\n",
    "from sklearn.pipeline import Pipeline\n",
    "from sklearn.ensemble import RandomForestClassifier, GradientBoostingClassifier\n",
    "from xgboost import XGBClassifier\n",
    "from sklearn.impute import SimpleImputer\n",
    "from sklearn.metrics import accuracy_score \n",
    "# load the dataset \n",
    "df = sns.load_dataset('titanic')\n",
    "# select features and target variable \n",
    "x = df[['pclass','sex','fare','age','embarked',]]\n",
    "y = df['survived']\n",
    "# split the data into traning and testing data \n",
    "x_train, x_test,y_train,y_test=train_test_split(x,y,test_size=0.2,random_state=42)\n",
    "# create a list of model to test \n",
    "models = [('Random Forest',RandomForestClassifier(random_state=42)),\n",
    "          (\"Gradient Boosting\",GradientBoostingClassifier(random_state=42)),\n",
    "          (\"xgboost\", XGBClassifier(random_state=42))]\n",
    "\n",
    "best_model= None\n",
    "best_accuracy= 0.0\n",
    "# iterate over the models and save their performance \n",
    "for name ,model in models:\n",
    "# create a pipeline for each model \n",
    "    pipeline = Pipeline([\n",
    "        ('imputer', SimpleImputer(strategy='most_frequent')),\n",
    "        (\"encoder\", OneHotEncoder(handle_unknown='ignore')),\n",
    "        (\"model\", model)\n",
    "    ])\n",
    "# perform a cross validation \n",
    "    scores = cross_val_score(pipeline,x_train,y_train,cv=5)\n",
    "# calcualte mean accuracy \n",
    "    mean_accuracy= scores.mean()\n",
    "# fit the pipeline on the training data \n",
    "    pipeline.fit(x_train,y_train)\n",
    "# make predication on the test data \n",
    "    y_pred =pipeline.predict(x_test)\n",
    "    accuracy= accuracy_score(y_test,y_pred)\n",
    "# print the performance matrics\n",
    "    print('model:', name)\n",
    "    print('cross_validation_accuracy:',mean_accuracy)\n",
    "    print('Test_accuracy:',accuracy)\n",
    "# check if the current model has the best accuracy \n",
    "    if accuracy > best_accuracy:\n",
    "        best_accuracy=accuracy\n",
    "        best_model=pipeline\n",
    "# print the best model\n",
    "print(\"Best model:\",best_model)"
   ]
  }
 ],
 "metadata": {
  "kernelspec": {
   "display_name": "python_ml",
   "language": "python",
   "name": "python3"
  },
  "language_info": {
   "codemirror_mode": {
    "name": "ipython",
    "version": 3
   },
   "file_extension": ".py",
   "mimetype": "text/x-python",
   "name": "python",
   "nbconvert_exporter": "python",
   "pygments_lexer": "ipython3",
   "version": "3.11.5"
  }
 },
 "nbformat": 4,
 "nbformat_minor": 2
}
