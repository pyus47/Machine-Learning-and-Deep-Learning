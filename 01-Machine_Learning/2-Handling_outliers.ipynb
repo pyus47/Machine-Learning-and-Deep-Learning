{
 "cells": [
  {
   "cell_type": "markdown",
   "metadata": {},
   "source": [
    "# Dealling with outliter or extreme values or out of ordinary or inconsistent data points\n",
    "here we are going to see how to recognize outlier and how to deal with them"
   ]
  },
  {
   "cell_type": "markdown",
   "metadata": {},
   "source": [
    "# types of outliers \n",
    "1. **`univariate outlier`**: outlier in one variable\n",
    "2. **`multivariate outlier:`** outlier in many variable mean complete row is outlier \n",
    "3. `Gobal outlier:` outlier is whole dataset\n",
    "4. `point outlier:` outlier at a specific point in dataset \n",
    "4. `Local outlier:` based on the cluster it is termed  as outlier it doesnot belong to that cluster\n",
    "5. `contextual outlier:` based on the cluster they look like from cluster but not from them\n",
    "6. `predioc outlier:`   outlier that comes in prediocally in the dataset\n",
    "7. `recurrent outlier:` the outlier that comes frequently in the data set \n",
    "8. `collective outlier:` the outlier that comes in the form of groups or cluster \n"
   ]
  },
  {
   "cell_type": "markdown",
   "metadata": {},
   "source": [
    "## Z-Score method and handling outliers \n",
    "#### Z-Score formula \n",
    "Z= x-mean/std"
   ]
  },
  {
   "cell_type": "code",
   "execution_count": 2,
   "metadata": {},
   "outputs": [
    {
     "name": "stdout",
     "output_type": "stream",
     "text": [
      "here is the data with outliers:\n",
      "    age   Z-score\n",
      "0    20 -0.938954\n",
      "1    21 -0.806396\n",
      "2    22 -0.673838\n",
      "3    23 -0.541280\n",
      "4    24 -0.408721\n",
      "5    25 -0.276163\n",
      "6    26 -0.143605\n",
      "7    27 -0.011047\n",
      "8    28  0.121512\n",
      "9    29  0.254070\n",
      "10   30  0.386628\n",
      "11   50  3.037793\n",
      "-------------------------------------\n",
      "here is the data with outlier on the based of Z-score threshold 3,    age   Z-score\n",
      "11   50  3.037793\n",
      "---------------------------------\n",
      "here is the data without outliers:\n",
      "    age   Z-score\n",
      "0    20 -0.938954\n",
      "1    21 -0.806396\n",
      "2    22 -0.673838\n",
      "3    23 -0.541280\n",
      "4    24 -0.408721\n",
      "5    25 -0.276163\n",
      "6    26 -0.143605\n",
      "7    27 -0.011047\n",
      "8    28  0.121512\n",
      "9    29  0.254070\n",
      "10   30  0.386628\n"
     ]
    }
   ],
   "source": [
    "# import libraries\n",
    "import pandas as pd \n",
    "import numpy as np \n",
    "# creating a data frame\n",
    "df=pd.DataFrame({\"age\":[20,21,22,23,24,25,26,27,28,29,30,50]})\n",
    "# let find out mean and std of dataframe\n",
    "mean=df['age'].mean()\n",
    "std=np.std(df['age'])\n",
    "# calculate the Z-Score\n",
    "df['Z-score']=(df['age']-mean)/std\n",
    "# print the data \n",
    "print(f\"here is the data with outliers:\\n{df}\")\n",
    "print(\"-------------------------------------\")\n",
    "print(f\"here is the data with outlier on the based of Z-score threshold 3,{df[df['Z-score']>3]}\")\n",
    "# Remove the outlier \n",
    "df_1=df[df['Z-score']<=3]\n",
    "print(\"---------------------------------\")\n",
    "# print the data without outliers\n",
    "print(f\"here is the data without outliers:\\n{df_1}\")\n"
   ]
  },
  {
   "cell_type": "markdown",
   "metadata": {},
   "source": [
    "# using scipy library for finding Z-Score mehod"
   ]
  },
  {
   "cell_type": "code",
   "execution_count": 7,
   "metadata": {},
   "outputs": [
    {
     "name": "stderr",
     "output_type": "stream",
     "text": [
      "C:\\Users\\Basit\\AppData\\Local\\Temp\\ipykernel_11992\\1642894004.py:5: DeprecationWarning: Please use `zscore` from the `scipy.stats` namespace, the `scipy.stats.stats` namespace is deprecated.\n",
      "  z_score=np.abs(stats.zscore(data))\n"
     ]
    },
    {
     "data": {
      "text/plain": [
       "array([0.35584227, 0.34959942, 0.346478  , 0.34023515, 0.3339923 ,\n",
       "       0.32774946, 0.32150661, 0.31526376, 0.30902092, 2.99968787])"
      ]
     },
     "execution_count": 7,
     "metadata": {},
     "output_type": "execute_result"
    }
   ],
   "source": [
    "from scipy.stats import stats\n",
    "# sample data\n",
    "data = [2.5, 2.7, 2.8, 3.0, 3.2, 3.4, 3.6, 3.8, 4.0, 110.0]\n",
    "# finding Z-score using scipy library here \n",
    "z_score=np.abs(stats.zscore(data))\n",
    "z_score"
   ]
  },
  {
   "cell_type": "code",
   "execution_count": 29,
   "metadata": {},
   "outputs": [
    {
     "data": {
      "image/png": "[encoded data removed]",
      "text/plain": [
       "<Figure size 640x480 with 1 Axes>"
      ]
     },
     "metadata": {},
     "output_type": "display_data"
    },
    {
     "data": {
      "text/plain": [
       "<Figure size 1920x1440 with 0 Axes>"
      ]
     },
     "metadata": {},
     "output_type": "display_data"
    }
   ],
   "source": [
    "import seaborn as sns \n",
    "import matplotlib.pyplot as plt\n",
    "plt.title(\"boxplot of outlier data\")\n",
    "plt.boxplot(df)\n",
    "plt.figure(dpi=300)\n",
    "plt.show()\n"
   ]
  }
 ],
 "metadata": {
  "kernelspec": {
   "display_name": "python_ml",
   "language": "python",
   "name": "python3"
  },
  "language_info": {
   "codemirror_mode": {
    "name": "ipython",
    "version": 3
   },
   "file_extension": ".py",
   "mimetype": "text/x-python",
   "name": "python",
   "nbconvert_exporter": "python",
   "pygments_lexer": "ipython3",
   "version": "3.11.5"
  }
 },
 "nbformat": 4,
 "nbformat_minor": 2
}
