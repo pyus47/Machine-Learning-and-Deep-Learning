{
 "cells": [
  {
   "cell_type": "markdown",
   "metadata": {},
   "source": [
    "# Catboost Algorithm\n",
    "Catboost is a state of the art open source gardient boosting on the decision tree library.it's simple and easy to use.And now is the top algortihm in the data science comptetions as it produce very good results without very extensive data clean-up or feature engineering."
   ]
  },
  {
   "cell_type": "code",
   "execution_count": 20,
   "metadata": {},
   "outputs": [],
   "source": [
    "import pandas as pd \n",
    "import numpy as np \n",
    "import matplotlib.pyplot as plt \n",
    "import seaborn as sns \n",
    "from catboost import CatBoostClassifier\n",
    "from sklearn.model_selection import train_test_split\n",
    "from sklearn.metrics import accuracy_score,classification_report,confusion_matrix"
   ]
  },
  {
   "cell_type": "markdown",
   "metadata": {},
   "source": [
    "# Pre-Processing "
   ]
  },
  {
   "cell_type": "code",
   "execution_count": 23,
   "metadata": {},
   "outputs": [
    {
     "name": "stdout",
     "output_type": "stream",
     "text": [
      "Classification report:\n",
      "               precision    recall  f1-score   support\n",
      "\n",
      "           0       1.00      1.00      1.00       105\n",
      "           1       1.00      1.00      1.00        74\n",
      "\n",
      "    accuracy                           1.00       179\n",
      "   macro avg       1.00      1.00      1.00       179\n",
      "weighted avg       1.00      1.00      1.00       179\n",
      "\n",
      "Confusion matix:\n",
      " [[105   0]\n",
      " [  0  74]]\n"
     ]
    }
   ],
   "source": [
    "df = sns.load_dataset('titanic')\n",
    "df.head()\n",
    "from sklearn.impute import KNNImputer\n",
    "imputer = KNNImputer(n_neighbors=5)\n",
    "df['fare']=imputer.fit_transform(df[['fare']])\n",
    "df['age']=imputer.fit_transform(df[['age']])\n",
    "\n",
    "# from sklearn.impute import SimpleImputer\n",
    "# imputer=SimpleImputer(strategy='most_frequent')\n",
    "# df['embark_town']=imputer.fit_transform(df[['embark_town']])\n",
    "# df['embarked']= imputer.fit_transform(df[['embarked']])\n",
    "\n",
    "# impute missing values from panda \n",
    "df['embark_town']=df[['embark_town']].fillna(df['embark_town'].mode()[0])\n",
    "df['embarked']=df[['embarked']].fillna(df['embarked'].mode()[0])\n",
    "# drop deck columns \n",
    "df.drop('deck',axis=1,inplace=True)\n",
    "df.isnull().sum().sort_values(ascending=False)\n",
    "# now we are going select categorical columns\n",
    "categorical_col=df.select_dtypes(include=['object','category']).columns\n",
    "# now we are going assign dtypes to category\n",
    "df[categorical_col]=df[categorical_col].astype('category')\n",
    "# now split the data into x and y \n",
    "x = df.drop('survived',axis=1)\n",
    "y = df['survived']\n",
    "# now split the data into traning and testing data \n",
    "x_train,x_test,y_train,y_test=train_test_split(x,y,test_size=0.2,random_state=42)\n",
    "# now initiallize the model \n",
    "catb=CatBoostClassifier(iterations=100,learning_rate=0.1,depth=3,loss_function='Logloss',\n",
    "                        eval_metric='Accuracy',random_state=42,verbose=False)\n",
    "# train the model\n",
    "catb.fit(x_train, y_train, cat_features=categorical_col.to_list())\n",
    "# predict the model\n",
    "y_pred= catb.predict(x_test)\n",
    "# evaluate the model\n",
    "print('Classification report:\\n',classification_report(y_test,y_pred))\n",
    "print('Confusion matix:\\n',confusion_matrix(y_test,y_pred))\n"
   ]
  }
 ],
 "metadata": {
  "kernelspec": {
   "display_name": "python_ml",
   "language": "python",
   "name": "python3"
  },
  "language_info": {
   "codemirror_mode": {
    "name": "ipython",
    "version": 3
   },
   "file_extension": ".py",
   "mimetype": "text/x-python",
   "name": "python",
   "nbconvert_exporter": "python",
   "pygments_lexer": "ipython3",
   "version": "3.11.5"
  }
 },
 "nbformat": 4,
 "nbformat_minor": 2
}
