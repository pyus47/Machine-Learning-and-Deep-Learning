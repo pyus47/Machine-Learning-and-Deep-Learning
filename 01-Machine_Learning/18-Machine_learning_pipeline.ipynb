{
 "cells": [
  {
   "cell_type": "markdown",
   "metadata": {},
   "source": [
    "## Pipeline in Machine learning \n",
    "In machine learning, a pipeline is a sequence of data preprocessing steps that are chained together to automate and streamline machine learning workflow. A pipeline allow you to combine multiple data preprcoessing and model traning  steps into one object, making it to easier to organize and manage your machine learning code.\n",
    "### Here are the key compoentes of Pipeline \n",
    "**`Data preprocessing`**: Pipeline typically starts with data preprocessing steps, such as feature encoding ,feature scaling, handling missing values or dimensionality reduction. These steps ensure that data is in appropriate format and quality for model traning.\\\n",
    "**`Traning of model`**: After data preprcoessing steps the pipeline includes traning of the machine learning model.\n",
    "This can a classifier for classification tasks and regessor for regression tasks or anyother model depeding on the problem at hand.\\\n",
    "**`Model Evluations`**: once the model is trained pipeline often include the steps for evaluation of the model. This may invovle metrics calculation, cross validation, or any other technique to asses the model effectiveness.\\\n",
    "**`predications`** After the model evaluation is completed, pipeline allows to make predication on the unseen and new data using the trained model. This steps applies the same preprocessing techniques or steps used during the training of new data before generating the predications.\n",
    "### Advantages of Machine learning Pipeline \n",
    "**`Simplified workflow:`** Pipeline provides clean and organized structure for defining and managing the sequence of steps involved in machine learning tasks. This makes it easier to understand, modfiy and reproduced the workflow.\\\n",
    "**Avoiding The Data Leakage** Pipeline ensures that data preprocessing steps are applied consistently to both training and testing data, preventing data leakage that could lead to biased or incorrect results.\\\n",
    "**`Streamlined Model Depolyment`** Pipeline allow you to encaspualte the entire workflow,inculding data preprocessing and \n",
    "model traning, into a single object.This simplifies the depolyment of your machine learning model, as the same pipeline can be applied to a new data without the need to reapply each individual step.\\\n",
    "**`Hyperparameter Tuning`** pipeline can be combined with Gridsearch and randominzed search for hyperparameter tuning. This allow to efficiently explore the different combinations of hyperparameter tuning."
   ]
  },
  {
   "cell_type": "code",
   "execution_count": 5,
   "metadata": {},
   "outputs": [
    {
     "name": "stdout",
     "output_type": "stream",
     "text": [
      "Acurracy: 0.7877094972067039\n"
     ]
    }
   ],
   "source": [
    "import pandas as pd \n",
    "import seaborn as sns \n",
    "from sklearn.model_selection import train_test_split\n",
    "from sklearn.preprocessing import LabelEncoder,OneHotEncoder\n",
    "from sklearn.impute import SimpleImputer\n",
    "from sklearn.pipeline import Pipeline\n",
    "from sklearn.compose import ColumnTransformer\n",
    "from sklearn.ensemble import RandomForestClassifier\n",
    "from sklearn.metrics import accuracy_score\n",
    "# load the dataset \n",
    "df= sns.load_dataset('titanic')\n",
    "# select features and traget variables\n",
    "x = df[['pclass','age','fare','embarked','sex']]\n",
    "y= df['survived']\n",
    "# split the data into testing and training data \n",
    "x_train, x_test,y_train,y_test=train_test_split(x,y,test_size=0.2,random_state=42)\n",
    "# define the column transformer for imputing missing values \n",
    "numeric_features=['fare','age']\n",
    "categorical_features=['sex','pclass','embarked']\n",
    "\n",
    "numeric_transformer=Pipeline(steps=[\n",
    "    ('imputer',SimpleImputer(strategy='median'))])\n",
    "\n",
    "Categorical_transfomer=Pipeline(steps=[('imputer',SimpleImputer(strategy='most_frequent')),\n",
    "                                       ('encoder', OneHotEncoder(handle_unknown='ignore'))])\n",
    "preprocessor=ColumnTransformer(transformers=[('num', numeric_transformer,numeric_features),\n",
    "              ('cat',Categorical_transfomer,categorical_features)                              ])\n",
    "# pipeline for model traning and preprocessing \n",
    "pipeline= Pipeline(steps=[('preprcoessor',preprocessor),\n",
    "                       ('random forest',RandomForestClassifier(random_state=42))])\n",
    "# fit this pipeline on training \n",
    "pipeline.fit(x_train,y_train)\n",
    "# predict stuff from pipeline using testing data \n",
    "y_pred=pipeline.predict(x_test)\n",
    "# evaluate the pipeline\n",
    "print('Acurracy:', accuracy_score(y_test,y_pred))"
   ]
  }
 ],
 "metadata": {
  "kernelspec": {
   "display_name": "python_ml",
   "language": "python",
   "name": "python3"
  },
  "language_info": {
   "codemirror_mode": {
    "name": "ipython",
    "version": 3
   },
   "file_extension": ".py",
   "mimetype": "text/x-python",
   "name": "python",
   "nbconvert_exporter": "python",
   "pygments_lexer": "ipython3",
   "version": "3.11.5"
  }
 },
 "nbformat": 4,
 "nbformat_minor": 2
}
