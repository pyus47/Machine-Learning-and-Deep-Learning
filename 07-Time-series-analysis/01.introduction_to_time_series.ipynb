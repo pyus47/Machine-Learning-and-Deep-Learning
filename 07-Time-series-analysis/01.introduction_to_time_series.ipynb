{
 "cells": [
  {
   "cell_type": "markdown",
   "metadata": {},
   "source": [
    "# Time Series Analysis \n",
    "\n",
    "Time series:  A sequence of data points over time. It is used to analyze and forecast future values based on past observations.\n",
    "## Components of Time Series \n",
    "\n",
    "1. **Time**: The variable representing the time at which an event or data point is recorded. It's usually in a continuous format,- A time series is a sequence of data points.\n",
    "2. **Time series data**: A sequence of observations recorded over time, where each observation is associated with time.\n",
    "3. **Trend**:  A trend component represents a long-term pattern or tendency in the data series over time, such as an overall increase or decrease in the valuel.\n",
    "4. **seasonality**:  recurring pattern that repeats over a fixed time period, such as daily or weekly cycles. Examples include sales data peaking on Christmas.\n",
    "5. **cyclic pattern**:    A cycle is a complete loop through all the data points in a time series. It consists of one or more periods, where each period has a specific- \n",
    "6. **Randomness**:  In time series analysis, randomness is the lack of structure or pattern in data. It means that each data point is independent of the previous or following data point.\n",
    "\n",
    "## Terms of Time series.\n",
    "\n",
    "6. **stationarity**: A time series is said to be stationary if the statistical properties of the data are constant over time.\n",
    "7. **Auto correlation**:  Measure of a time series b/w a variable current and past time values. It shows how much the value at a particular point.\n",
    "8. **Lag**: A lag refers to the time interval between two related observations in a time series dataset.\n",
    "9. **Moving Average**:       It is an average of a fixed number of previous data points, used for smoothing out fluctuations It represents how far back in time we need to It represents how much time or distance separates one It is used to capture any temporal dependencies or patterns.\n",
    "10 **ARIMA**: (Autoregressive intergrated MOving Averages)  is an approach used for forecasting future values of a time series based on past values. \n",
    "11 **Forecasting**:  The process of predicting future values based on past data based on the time.\n",
    "12. **Outlier**:     An outlier is an observation that deviates significantly from other observationin a dataset.\n",
    "\n"
   ]
  },
  {
   "cell_type": "markdown",
   "metadata": {},
   "source": [
    "## Types of Time Series DATA:\n",
    "1. EDA: EXploratory DAtA Analysis. It is a process that involves analyzing the data to understand its structure, characteristics and relationships between variables.\n",
    "\n",
    "2. Meta data of time series data:\n",
    "\n",
    "3. Time series forecast:\n",
    "\n",
    "Arima (autoregressive intergrated moving average)\n",
    "\n",
    "sarima (seasonal  autoregressive with intergerated moving average)\n",
    "\n",
    "4. Classification of  time series data: \n",
    "Bagging and Boosting, Rf xgboost,svm ,nn\n",
    "\n",
    "5. Time Series decomposition: \n",
    "\n",
    "5.1  based on trend positive or negative \n",
    "\n",
    "5.2 based on seasonality\n",
    "\n",
    "5.3 residual (erros of predication) these three data points give good predication but fourth one increase the error of predication\n",
    "\n",
    "6. Spectral Analysis: \n",
    "  Analysis of Specturm \n",
    "  identitfy the cycling pattern in the data \n",
    "\n",
    "cycles Analysis \n"
   ]
  },
  {
   "cell_type": "markdown",
   "metadata": {},
   "source": [
    "## Types of Data about time and time series\n",
    "\n",
    "1. **Time Series**:  A sequence of data points recorded over a period of time, typically with some regularity.\n",
    "\n",
    "2. **Cross sectional data**: This type of data is collected at a single point in time, often involving an individual or group. one or more variable at a given time stamp.\n",
    "\n",
    "3. **Pooled data**:  A dataset that contains a fixed number of observations for each individual or unit of analysis, such as the\n",
    "\n",
    "ETS = Erros, Trend ,seasonality"
   ]
  }
 ],
 "metadata": {
  "kernelspec": {
   "display_name": "python_DL",
   "language": "python",
   "name": "python3"
  },
  "language_info": {
   "codemirror_mode": {
    "name": "ipython",
    "version": 3
   },
   "file_extension": ".py",
   "mimetype": "text/x-python",
   "name": "python",
   "nbconvert_exporter": "python",
   "pygments_lexer": "ipython3",
   "version": "3.11.7"
  }
 },
 "nbformat": 4,
 "nbformat_minor": 2
}
